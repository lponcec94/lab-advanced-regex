{
 "cells": [
  {
   "cell_type": "markdown",
   "metadata": {},
   "source": [
    "# Advanced Regular Expressions Lab\n",
    "\n",
    "Complete the following set of exercises to solidify your knowledge of regular expressions."
   ]
  },
  {
   "cell_type": "code",
   "execution_count": 1,
   "metadata": {},
   "outputs": [],
   "source": [
    "import re"
   ]
  },
  {
   "cell_type": "markdown",
   "metadata": {},
   "source": [
    "### 1. Use a regular expression to find and extract all vowels in the following text."
   ]
  },
  {
   "cell_type": "code",
   "execution_count": 3,
   "metadata": {},
   "outputs": [],
   "source": [
    "text = \"This is going to be a sentence with a good number of vowels in it.\""
   ]
  },
  {
   "cell_type": "code",
   "execution_count": 4,
   "metadata": {},
   "outputs": [
    {
     "name": "stdout",
     "output_type": "stream",
     "text": [
      "['i', 'i', 'o', 'i', 'o', 'e', 'a', 'e', 'e', 'e', 'i', 'a', 'o', 'o', 'u', 'e', 'o', 'o', 'e', 'i', 'i']\n"
     ]
    }
   ],
   "source": [
    "vowels = re.findall(r'[aeiou]', text)\n",
    "print(vowels)"
   ]
  },
  {
   "cell_type": "markdown",
   "metadata": {},
   "source": [
    "### 2. Use a regular expression to find and extract all occurrences and tenses (singular and plural) of the word \"puppy\" in the text below."
   ]
  },
  {
   "cell_type": "code",
   "execution_count": 59,
   "metadata": {},
   "outputs": [],
   "source": [
    "text = \"The puppy saw all the rest of the puppies playing and wanted to join them. I saw this and wanted a puppy of my own!\""
   ]
  },
  {
   "cell_type": "code",
   "execution_count": 62,
   "metadata": {},
   "outputs": [
    {
     "name": "stdout",
     "output_type": "stream",
     "text": [
      "['puppy', 'puppies', 'puppy']\n"
     ]
    }
   ],
   "source": [
    "pupp = re.findall(r'pupp(?:y|ies)', text)\n",
    "print(pupp)"
   ]
  },
  {
   "cell_type": "markdown",
   "metadata": {},
   "source": [
    "### 3. Use a regular expression to find and extract all tenses (present and past) of the word \"run\" in the text below."
   ]
  },
  {
   "cell_type": "code",
   "execution_count": 71,
   "metadata": {},
   "outputs": [],
   "source": [
    "text = \"I ran the relay race the only way I knew how to run it.\""
   ]
  },
  {
   "cell_type": "code",
   "execution_count": 72,
   "metadata": {},
   "outputs": [
    {
     "name": "stdout",
     "output_type": "stream",
     "text": [
      "['ran', 'run']\n"
     ]
    }
   ],
   "source": [
    "running = re.findall(r'r\\wn', text)\n",
    "print(running)\n",
    "    "
   ]
  },
  {
   "cell_type": "markdown",
   "metadata": {},
   "source": [
    "### 4. Use a regular expression to find and extract all words that begin with the letter \"r\" from the previous text."
   ]
  },
  {
   "cell_type": "code",
   "execution_count": 73,
   "metadata": {},
   "outputs": [
    {
     "name": "stdout",
     "output_type": "stream",
     "text": [
      "['ran ', 'relay ', 'race ', 'run ']\n"
     ]
    }
   ],
   "source": [
    "word_r = re.findall(r'r\\w{1,}\\s', text)\n",
    "print(word_r)\n",
    "                    "
   ]
  },
  {
   "cell_type": "markdown",
   "metadata": {},
   "source": [
    "### 5. Use a regular expression to find and substitute the letter \"i\" for the exclamation marks in the text below."
   ]
  },
  {
   "cell_type": "code",
   "execution_count": 76,
   "metadata": {},
   "outputs": [],
   "source": [
    "text = \"Th!s !s a sentence w!th spec!al characters !n !t.\""
   ]
  },
  {
   "cell_type": "code",
   "execution_count": 77,
   "metadata": {},
   "outputs": [
    {
     "name": "stdout",
     "output_type": "stream",
     "text": [
      "This is a sentence with special characters in it.\n"
     ]
    }
   ],
   "source": [
    "subst = re.sub(r'!', 'i', text)\n",
    "print(subst)"
   ]
  },
  {
   "cell_type": "markdown",
   "metadata": {},
   "source": [
    "### 6. Use a regular expression to find and extract words longer than 4 characters in the text below."
   ]
  },
  {
   "cell_type": "code",
   "execution_count": 78,
   "metadata": {},
   "outputs": [],
   "source": [
    "text = \"This sentence has words of varying lengths.\""
   ]
  },
  {
   "cell_type": "code",
   "execution_count": 82,
   "metadata": {},
   "outputs": [
    {
     "name": "stdout",
     "output_type": "stream",
     "text": [
      "['This', 'sentence', 'words', 'varying', 'lengths']\n"
     ]
    }
   ],
   "source": [
    "words_4 = re.findall(r'\\w{4,}', text)\n",
    "print(words_4)"
   ]
  },
  {
   "cell_type": "markdown",
   "metadata": {},
   "source": [
    "### 7. Use a regular expression to find and extract all occurrences of the letter \"b\", some letter(s), and then the letter \"t\" in the sentence below."
   ]
  },
  {
   "cell_type": "code",
   "execution_count": 83,
   "metadata": {},
   "outputs": [],
   "source": [
    "text = \"I bet the robot couldn't beat the other bot with a bat, but instead it bit me.\""
   ]
  },
  {
   "cell_type": "code",
   "execution_count": 84,
   "metadata": {},
   "outputs": [
    {
     "name": "stdout",
     "output_type": "stream",
     "text": [
      "['bet', 'bot', 'beat', 'bot', 'bat', 'but', 'bit']\n"
     ]
    }
   ],
   "source": [
    "occur_b = re.findall(r'b\\w{1,}t', text)\n",
    "print(occur_b)"
   ]
  },
  {
   "cell_type": "markdown",
   "metadata": {},
   "source": [
    "### 8. Use a regular expression to find and extract all words that contain either \"ea\" or \"eo\" in them."
   ]
  },
  {
   "cell_type": "code",
   "execution_count": 85,
   "metadata": {},
   "outputs": [],
   "source": [
    "text = \"During many of the peaks and troughs of history, the people living it didn't fully realize what was unfolding. But we all know we're navigating breathtaking history: Nearly every day could be — maybe will be — a book.\"\n"
   ]
  },
  {
   "cell_type": "code",
   "execution_count": 96,
   "metadata": {},
   "outputs": [
    {
     "name": "stdout",
     "output_type": "stream",
     "text": [
      "['peaks', 'people', 'realize', 'breathtaking', 'Nearly']\n"
     ]
    }
   ],
   "source": [
    "word_eao = re.findall(r'\\w+(?:eo|ea)\\w+', text)\n",
    "print(word_eao)"
   ]
  },
  {
   "cell_type": "markdown",
   "metadata": {},
   "source": [
    "### 9. Use a regular expression to find and extract all the capitalized words in the text below individually."
   ]
  },
  {
   "cell_type": "code",
   "execution_count": 97,
   "metadata": {},
   "outputs": [],
   "source": [
    "text = \"Teddy Roosevelt and Abraham Lincoln walk into a bar.\""
   ]
  },
  {
   "cell_type": "code",
   "execution_count": 99,
   "metadata": {},
   "outputs": [
    {
     "name": "stdout",
     "output_type": "stream",
     "text": [
      "['Teddy', 'Roosevelt', 'Abraham', 'Lincoln']\n"
     ]
    }
   ],
   "source": [
    "cap_words = re.findall(r'[A-Z]\\w+', text)\n",
    "print(cap_words)"
   ]
  },
  {
   "cell_type": "markdown",
   "metadata": {},
   "source": [
    "### 10. Use a regular expression to find and extract all the sets of consecutive capitalized words in the text above."
   ]
  },
  {
   "cell_type": "code",
   "execution_count": 106,
   "metadata": {},
   "outputs": [
    {
     "name": "stdout",
     "output_type": "stream",
     "text": [
      "['Teddy Roosevelt', 'Abraham Lincoln']\n"
     ]
    }
   ],
   "source": [
    "cap_words_set = re.findall(r'[A-Z]\\w+\\s[A-Z]\\w+', text)\n",
    "print(cap_words_set)"
   ]
  },
  {
   "cell_type": "markdown",
   "metadata": {},
   "source": [
    "### 11. Use a regular expression to find and extract all the quotes from the text below.\n",
    "\n",
    "*Hint: This one is a little more complex than the single quote example in the lesson because there are multiple quotes in the text.*"
   ]
  },
  {
   "cell_type": "code",
   "execution_count": 129,
   "metadata": {},
   "outputs": [],
   "source": [
    "text = 'Roosevelt says to Lincoln, \"I will bet you $50 I can get the bartender to give me a free drink.\" Lincoln says, \"I am in!\"'\n"
   ]
  },
  {
   "cell_type": "code",
   "execution_count": 131,
   "metadata": {},
   "outputs": [
    {
     "name": "stdout",
     "output_type": "stream",
     "text": [
      "['\"I will bet you $50 I can get the bartender to give me a free drink.\"', '\"I am in!\"']\n"
     ]
    }
   ],
   "source": [
    "quotes = re.findall(r'\\\".*?\\\"', text)\n",
    "print(quotes)"
   ]
  },
  {
   "cell_type": "markdown",
   "metadata": {},
   "source": [
    "### 12. Use a regular expression to find and extract all the numbers from the text below."
   ]
  },
  {
   "cell_type": "code",
   "execution_count": 109,
   "metadata": {},
   "outputs": [],
   "source": [
    "text = \"There were 30 students in the class. Of the 30 students, 14 were male and 16 were female. Only 10 students got A's on the exam.\"\n"
   ]
  },
  {
   "cell_type": "code",
   "execution_count": 110,
   "metadata": {},
   "outputs": [
    {
     "name": "stdout",
     "output_type": "stream",
     "text": [
      "['3', '0', '3', '0', '1', '4', '1', '6', '1', '0']\n"
     ]
    }
   ],
   "source": [
    "numbs = re.findall(r'\\d', text)\n",
    "print(numbs)"
   ]
  },
  {
   "cell_type": "markdown",
   "metadata": {},
   "source": [
    "### 13. Use a regular expression to find and extract all the social security numbers from the text below."
   ]
  },
  {
   "cell_type": "code",
   "execution_count": 114,
   "metadata": {},
   "outputs": [],
   "source": [
    "text = \"\"\"\n",
    "Henry's social security number is 876-93-2289 and his phone number is (847)789-0984.\n",
    "Darlene's social security number is 098-32-5295 and her phone number is (987)222-0901.\n",
    "\"\"\""
   ]
  },
  {
   "cell_type": "code",
   "execution_count": 118,
   "metadata": {},
   "outputs": [
    {
     "name": "stdout",
     "output_type": "stream",
     "text": [
      "['876-93-228', '098-32-529']\n"
     ]
    }
   ],
   "source": [
    "ssc_number = re.findall(r'\\d{3}-\\d{2}-\\d{3}', text)\n",
    "print(ssc_number)"
   ]
  },
  {
   "cell_type": "markdown",
   "metadata": {},
   "source": [
    "### 14. Use a regular expression to find and extract all the phone numbers from the text above."
   ]
  },
  {
   "cell_type": "code",
   "execution_count": 120,
   "metadata": {},
   "outputs": [
    {
     "name": "stdout",
     "output_type": "stream",
     "text": [
      "['(847)789-098', '(987)222-090']\n"
     ]
    }
   ],
   "source": [
    "phone_number = re.findall(r'\\(\\d{3}\\)\\d{3}-\\d{3}', text)\n",
    "print(phone_number)"
   ]
  },
  {
   "cell_type": "markdown",
   "metadata": {},
   "source": [
    "### 15. Use a regular expression to find and extract all the formatted numbers (both social security and phone) from the text above."
   ]
  },
  {
   "cell_type": "code",
   "execution_count": 121,
   "metadata": {},
   "outputs": [
    {
     "name": "stdout",
     "output_type": "stream",
     "text": [
      "[' 876-93-228', '(847)789-098', ' 098-32-529', '(987)222-090']\n"
     ]
    }
   ],
   "source": [
    "phone_ssc_number = re.findall(r'\\W\\d{3}\\W\\d{2,}-\\d{3}', text)\n",
    "print(phone_ssc_number)"
   ]
  }
 ],
 "metadata": {
  "kernelspec": {
   "display_name": "Python 3",
   "language": "python",
   "name": "python3"
  },
  "language_info": {
   "codemirror_mode": {
    "name": "ipython",
    "version": 3
   },
   "file_extension": ".py",
   "mimetype": "text/x-python",
   "name": "python",
   "nbconvert_exporter": "python",
   "pygments_lexer": "ipython3",
   "version": "3.6.5"
  }
 },
 "nbformat": 4,
 "nbformat_minor": 2
}
